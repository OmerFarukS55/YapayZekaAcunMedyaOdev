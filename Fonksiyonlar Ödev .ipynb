{
 "cells": [
  {
   "cell_type": "code",
   "execution_count": null,
   "id": "3ca25bcd",
   "metadata": {},
   "outputs": [],
   "source": [
    "#1.\"Merhaba, Python!\" Yazdıran Fonksiyon\n",
    "def merhaba_de():\n",
    "    print(\"Merhaba, Python!\")"
   ]
  },
  {
   "cell_type": "code",
   "execution_count": null,
   "id": "6a54ff3f",
   "metadata": {},
   "outputs": [],
   "source": [
    "#2. İsim ve Soyisim Yazdıran Fonksiyon\n",
    "def tam_ad_yazdir(isim, soyisim):\n",
    "    print(isim, soyisim)"
   ]
  },
  {
   "cell_type": "code",
   "execution_count": null,
   "id": "9560c897",
   "metadata": {},
   "outputs": [],
   "source": [
    "#3. Listeden Tek Sayıları Bulan Fonksiyon\n",
    "def tek_sayilari_bul(sayilar):\n",
    "    return [sayi for sayi in sayilar if sayi % 2 != 0]  # Listedeki tek sayıları döndürüyoruz"
   ]
  },
  {
   "cell_type": "code",
   "execution_count": null,
   "id": "4847c42a",
   "metadata": {},
   "outputs": [],
   "source": [
    "#4. Dört İşlem Yapan Fonksiyonlar\n",
    "def topla(sayi1, sayi2):\n",
    "    return sayi1 + sayi2\n",
    "\n",
    "def bolme(sayi1, sayi2):\n",
    "    if sayi2 == 0:\n",
    "        return \"Bölen kısım 0 olamaz\"  # Bölen sıfır olmaması için kontrol\n",
    "    return sayi1 / sayi2\n",
    "\n",
    "def carpma(sayi1, sayi2):\n",
    "    return sayi1 * sayi2\n",
    "\n",
    "def cikarma(sayi1, sayi2):\n",
    "    return sayi1 - sayi2\n",
    "\n",
    "def mod(sayi1, sayi2):\n",
    "    return sayi1 % sayi2"
   ]
  },
  {
   "cell_type": "code",
   "execution_count": null,
   "id": "4327b8a2",
   "metadata": {},
   "outputs": [],
   "source": [
    "#5. Metin Üzerinde Farklı İşlemler Yapan Fonksiyon\n",
    "def metin_isle(metin, islem_tipi):\n",
    "    if islem_tipi == \"ters\":\n",
    "        return metin[::-1]  # Metni ters çeviriyoruz.\n",
    "    elif islem_tipi == \"buyuk\":\n",
    "        return metin.upper()  # Metni büyük harflere çeviriyoruz.\n",
    "    elif islem_tipi == \"kucuk\":\n",
    "        return metin.lower()  # Metni küçük harflere çeviriyoruz.\n",
    "    elif islem_tipi == \"uzunluk\":\n",
    "        return len(metin)  # Metnin karakter uzunluğunu döndürürüz.\n",
    "    else:\n",
    "        return \"Geçersiz işlem\""
   ]
  },
  {
   "cell_type": "code",
   "execution_count": null,
   "id": "28941724",
   "metadata": {},
   "outputs": [],
   "source": [
    "#6. Birden Fazla İsim Ekleyen Fonksiyon\n",
    "isimler = []  # İsimlerin saklanacağı listemiz.\n",
    "def isim_ekle(*args):\n",
    "    for isim in args:\n",
    "        isimler.append(isim.upper())  # Verilen isimleri büyük harf formatında listeye ekliyoruz.\n",
    "    return isimler\n"
   ]
  },
  {
   "cell_type": "code",
   "execution_count": null,
   "id": "42332b22",
   "metadata": {},
   "outputs": [],
   "source": [
    "#7. Metindeki Kelime Sayısını Analiz Eden Fonksiyon\n",
    "def kelime_sayisi(metin):\n",
    "    return len(metin.split())  # Metindeki kelime sayımızı döndürüyoruz.\n",
    "\n",
    "def cumle_analiz(metin):\n",
    "    if kelime_sayisi(metin) >= 5:\n",
    "        return \"Cümle uzun\"  # 5 ya da daha fazla kelime varsa\n",
    "    else:\n",
    "        return \"Cümle kısa\"  # 5ten az kelime varsa\n"
   ]
  },
  {
   "cell_type": "code",
   "execution_count": null,
   "id": "6f0a19db",
   "metadata": {},
   "outputs": [],
   "source": [
    "#8. Recursive Toplam Hesaplayan Fonksiyon\n",
    "def toplam(n):\n",
    "    if n == 1:\n",
    "        return 1  # n 1 olduğunda fonksiyon durur\n",
    "    return n + toplam(n - 1)  # n ile (n-1)e kadar olan sayıların toplamını hesaplamak için"
   ]
  }
 ],
 "metadata": {
  "kernelspec": {
   "display_name": "Python 3 (ipykernel)",
   "language": "python",
   "name": "python3"
  },
  "language_info": {
   "codemirror_mode": {
    "name": "ipython",
    "version": 3
   },
   "file_extension": ".py",
   "mimetype": "text/x-python",
   "name": "python",
   "nbconvert_exporter": "python",
   "pygments_lexer": "ipython3",
   "version": "3.11.4"
  }
 },
 "nbformat": 4,
 "nbformat_minor": 5
}
