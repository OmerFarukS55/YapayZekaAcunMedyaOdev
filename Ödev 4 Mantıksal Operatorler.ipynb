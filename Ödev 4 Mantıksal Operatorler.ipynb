{
 "cells": [
  {
   "cell_type": "code",
   "execution_count": 4,
   "id": "e8c7016e",
   "metadata": {},
   "outputs": [
    {
     "name": "stdout",
     "output_type": "stream",
     "text": [
      "True\n",
      "False\n",
      "True\n",
      "Bir sayı girin: 12\n",
      "True\n"
     ]
    }
   ],
   "source": [
    "#Görev 1:\n",
    "yas = 30\n",
    "\n",
    "print(yas > 18 and yas < 65)  # Yaş 18 ile 65 arasında mı?\n",
    "print(yas < 18 or yas > 65)   # Yaş 18 den küçük veya 65 ten büyük mü?\n",
    "print(not (yas == 25))        # Yaş 25 e eşit mi? değilse True yazdır\n",
    "\n",
    "#Görev 2:\n",
    "\n",
    "sayi = int(input(\"Bir sayı girin: \")) # Kullanıcıdan bir sayı alıyoruz\n",
    "\n",
    "\n",
    "if sayi % 2 == 0 and sayi > 0:# Çift olup olmadığını ve pozitif olup olmadığını kontrol ediyoruz\n",
    "    print(True)  # Çift ve pozitif\n",
    "else:\n",
    "    print(False)  # Çift ve pozitif değil\n",
    "    \n",
    "#Görev 3:\n",
    "    \n",
    "# Kullanıcıdan yaş ve ehliyet bilgisini alacağız\n",
    "yas = int(input(\"Yaşınızı giriniz: \"))\n",
    "ehliyet = input(\"Ehliyetiniz var mı? (Evet/Hayır): \")\n",
    "\n",
    "# Koşulu kontrol ettirip sonucu yazdırıyoruz\n",
    "if yas > 18 and (ehliyet == \"Evet\" or ehliyet == \"evet\"):\n",
    "    print(\"Araba kullanabilirsiniz.\")\n",
    "else:\n",
    "    print(\"Araba kullanamazsınız.\")\n"
   ]
  },
  {
   "cell_type": "code",
   "execution_count": null,
   "id": "c66eeb2d",
   "metadata": {},
   "outputs": [],
   "source": []
  }
 ],
 "metadata": {
  "kernelspec": {
   "display_name": "Python 3 (ipykernel)",
   "language": "python",
   "name": "python3"
  },
  "language_info": {
   "codemirror_mode": {
    "name": "ipython",
    "version": 3
   },
   "file_extension": ".py",
   "mimetype": "text/x-python",
   "name": "python",
   "nbconvert_exporter": "python",
   "pygments_lexer": "ipython3",
   "version": "3.11.4"
  }
 },
 "nbformat": 4,
 "nbformat_minor": 5
}
