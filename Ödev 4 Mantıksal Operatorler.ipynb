{
 "cells": [
  {
   "cell_type": "code",
   "execution_count": 2,
   "id": "b36e943d",
   "metadata": {},
   "outputs": [
    {
     "name": "stdout",
     "output_type": "stream",
     "text": [
      "True\n",
      "False\n",
      "True\n"
     ]
    }
   ],
   "source": [
    "#Görev 1:\n",
    "yas = 30  # Örnek yaş\n",
    "\n",
    "# Koşulları kontrol et ve sonuçları yazdır\n",
    "print(yas > 18 and yas < 65)  # yas 18 ile 65 arasında mı?\n",
    "print(yas < 18 or yas > 65)   # yas 18'den küçük veya 65'ten büyük mü?\n",
    "print(not (yas == 25))        # yas 25'e eşit mi? değilse True yazdır\n",
    "\n"
   ]
  },
  {
   "cell_type": "code",
   "execution_count": null,
   "id": "dd279481",
   "metadata": {},
   "outputs": [],
   "source": []
  }
 ],
 "metadata": {
  "kernelspec": {
   "display_name": "Python 3 (ipykernel)",
   "language": "python",
   "name": "python3"
  },
  "language_info": {
   "codemirror_mode": {
    "name": "ipython",
    "version": 3
   },
   "file_extension": ".py",
   "mimetype": "text/x-python",
   "name": "python",
   "nbconvert_exporter": "python",
   "pygments_lexer": "ipython3",
   "version": "3.11.4"
  }
 },
 "nbformat": 4,
 "nbformat_minor": 5
}
