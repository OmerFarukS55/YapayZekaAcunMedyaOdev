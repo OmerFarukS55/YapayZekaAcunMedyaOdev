{
 "cells": [
  {
   "cell_type": "code",
   "execution_count": 1,
   "id": "22f5c7b9",
   "metadata": {},
   "outputs": [
    {
     "name": "stdout",
     "output_type": "stream",
     "text": [
      "Bir meyve ismi girin: sdgs\n",
      "sdgs listede mevcut değil.\n"
     ]
    }
   ],
   "source": [
    "#Görev 1:\n",
    "\n",
    "meyveler = [\"elma\", \"armut\", \"çilek\", \"kiraz\"] #Meyve listesi\n",
    "\n",
    "meyve = input(\"Bir meyve ismi girin: \") # Kullanıcıdan bir meyve ismi alıyoruz\n",
    "\n",
    "# Kullanıcıdan alınan meyve isminin listede olup olmadığını kontrol etmek için:\n",
    "if meyve in meyveler:\n",
    "    print(f\"{meyve} listede mevcut.\")\n",
    "else:\n",
    "    print(f\"{meyve} listede mevcut değil.\")\n",
    "    \n",
    "#Görev 2: \n",
    "\n",
    "parola = \"PyThOn123\"\n",
    "\n",
    "karakter = input(\"Bir karakter girin: \") # Kullanıcıdan bir karakter alıyoruz\n",
    "\n",
    "# Karakterin parolada olup olmadığını kontrol etmek için:\n",
    "if karakter not in parola:\n",
    "    print(\"Parolada bu karakter yok\")\n"
   ]
  },
  {
   "cell_type": "code",
   "execution_count": null,
   "id": "ba9815a4",
   "metadata": {},
   "outputs": [],
   "source": []
  }
 ],
 "metadata": {
  "kernelspec": {
   "display_name": "Python 3 (ipykernel)",
   "language": "python",
   "name": "python3"
  },
  "language_info": {
   "codemirror_mode": {
    "name": "ipython",
    "version": 3
   },
   "file_extension": ".py",
   "mimetype": "text/x-python",
   "name": "python",
   "nbconvert_exporter": "python",
   "pygments_lexer": "ipython3",
   "version": "3.11.4"
  }
 },
 "nbformat": 4,
 "nbformat_minor": 5
}
