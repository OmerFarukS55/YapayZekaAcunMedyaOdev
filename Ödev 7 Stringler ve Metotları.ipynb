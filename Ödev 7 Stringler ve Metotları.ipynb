{
 "cells": [
  {
   "cell_type": "code",
   "execution_count": null,
   "id": "d3f7f0d6",
   "metadata": {},
   "outputs": [],
   "source": [
    "#Görev 1:\n",
    "\n",
    "metin = input(\"Bir metin girin: \") # Kullanıcıdan metin alıyoruz\n",
    "\n",
    "metin = metin.strip() # Başındaki ve sonundaki boşlukları silmek için .strip kullandık\n",
    "\n",
    "metin = metin.upper() # .upper ile tüm harfleri büyük yapıyoruz\n",
    "\n",
    "metin = metin.replace(\"a\", \"e\") # \"a\" harflerini \"e\" ile değiştirebilmek için\n",
    "\n",
    "# Boşluklara göre split edip kelimeleri liste halinde yazdırıyoruz\n",
    "kelimeler = metin.split()\n",
    "print(kelimeler)\n",
    "\n",
    "#Görev 2:\n",
    "\n",
    "# Verilen metni ters çevirmek için:\n",
    "metin = \"Python programlama dili\"\n",
    "ters_metin = metin[::-1] # :: tüm öğeleri al anlamına gelir. / -1: öğelerin sırasının tersine çevrilmesi gerektiğini belirtir. \n",
    "\n",
    "print(ters_metin)\n",
    "\n",
    "# programlama yı kodlama ile değiştirmek için:\n",
    "yeni_metin = metin.replace(\"programlama\", \"kodlama\")\n",
    "print(yeni_metin)\n"
   ]
  },
  {
   "cell_type": "code",
   "execution_count": null,
   "id": "b6741404",
   "metadata": {},
   "outputs": [],
   "source": []
  }
 ],
 "metadata": {
  "kernelspec": {
   "display_name": "Python 3 (ipykernel)",
   "language": "python",
   "name": "python3"
  },
  "language_info": {
   "codemirror_mode": {
    "name": "ipython",
    "version": 3
   },
   "file_extension": ".py",
   "mimetype": "text/x-python",
   "name": "python",
   "nbconvert_exporter": "python",
   "pygments_lexer": "ipython3",
   "version": "3.11.4"
  }
 },
 "nbformat": 4,
 "nbformat_minor": 5
}
