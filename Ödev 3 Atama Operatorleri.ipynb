{
 "cells": [
  {
   "cell_type": "code",
   "execution_count": 2,
   "id": "ee8fe721",
   "metadata": {},
   "outputs": [
    {
     "name": "stdout",
     "output_type": "stream",
     "text": [
      "6.0\n",
      "Python Programlama\n"
     ]
    }
   ],
   "source": [
    "#Görev 1:\n",
    "sayi = 10 #İlk değerimiz\n",
    "\n",
    "sayi += 5 # 5 ekle\n",
    "\n",
    "sayi -= 3 # 3 çıkar\n",
    "\n",
    "sayi *= 2 # 2 ile çarp\n",
    "\n",
    "sayi /= 4 # 4'e böl\n",
    "\n",
    "print(sayi) # Sonuç yazdırmak için\n",
    "\n",
    "#Görev 2:\n",
    "metin = \"Python\"\n",
    "\n",
    "metin += \" Programlama\" # Metnin sonuna \" Programlama\" eklemek için += kullanıyoruz\n",
    "\n",
    "print(metin) # Yeni oluşan metni yazdırmak için\n"
   ]
  },
  {
   "cell_type": "code",
   "execution_count": null,
   "id": "ac7312f7",
   "metadata": {},
   "outputs": [],
   "source": []
  }
 ],
 "metadata": {
  "kernelspec": {
   "display_name": "Python 3 (ipykernel)",
   "language": "python",
   "name": "python3"
  },
  "language_info": {
   "codemirror_mode": {
    "name": "ipython",
    "version": 3
   },
   "file_extension": ".py",
   "mimetype": "text/x-python",
   "name": "python",
   "nbconvert_exporter": "python",
   "pygments_lexer": "ipython3",
   "version": "3.11.4"
  }
 },
 "nbformat": 4,
 "nbformat_minor": 5
}
