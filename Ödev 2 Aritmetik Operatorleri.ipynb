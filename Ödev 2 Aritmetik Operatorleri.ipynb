{
 "cells": [
  {
   "cell_type": "code",
   "execution_count": null,
   "id": "a875ba77",
   "metadata": {},
   "outputs": [],
   "source": [
    "# Görev 1: Matematiksel İşlemler\n",
    "sayi1 = float(input(\"Birinci sayıyı girin: \"))  # Kullanıcıdan ilk sayıyı alıyoruz\n",
    "sayi2 = float(input(\"İkinci sayıyı girin: \"))  # Kullanıcıdan ikinci sayıyı alıyoruz\n",
    "\n",
    "print(\"Toplama:\", sayi1 + sayi2)  # Toplama işlemi\n",
    "print(\"Çıkarma:\", sayi1 - sayi2)  # Çıkarma işlemi\n",
    "print(\"Çarpma:\", sayi1 * sayi2)  # Çarpma işlemi\n",
    "print(\"Bölme:\", sayi1 / sayi2)  # Bölme işlemi\n",
    "print(\"Tam Bölme:\", sayi1 // sayi2)  # Tam bölme işlemi\n",
    "print(\"Üs Alma:\", sayi1 ** sayi2)  # Üs alma işlemi\n",
    "print(\"Mod Alma:\", sayi1 % sayi2)  # Mod alma işlemi\n",
    "\n",
    "# Görev 2: Dairenin Alanını Hesaplama\n",
    "pi = 3.14  # π \n",
    "yaricapi = float(input(\"Dairenin yarıçapını girin: \"))  # Kullanıcıdan yarıçapı alıyoruz\n",
    "alan = pi * yaricapi ** 2  # Dairenin alanı hesaplanır\n",
    "\n",
    "print(\"Dairenin Alanı:\", alan)  # Sonuç ekrana yazdırılır\n"
   ]
  }
 ],
 "metadata": {
  "kernelspec": {
   "display_name": "Python 3 (ipykernel)",
   "language": "python",
   "name": "python3"
  },
  "language_info": {
   "codemirror_mode": {
    "name": "ipython",
    "version": 3
   },
   "file_extension": ".py",
   "mimetype": "text/x-python",
   "name": "python",
   "nbconvert_exporter": "python",
   "pygments_lexer": "ipython3",
   "version": "3.11.4"
  }
 },
 "nbformat": 4,
 "nbformat_minor": 5
}
