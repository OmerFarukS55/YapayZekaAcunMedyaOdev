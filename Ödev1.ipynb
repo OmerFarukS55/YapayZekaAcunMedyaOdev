{
 "cells": [
  {
   "cell_type": "code",
   "execution_count": 1,
   "id": "b4905de2",
   "metadata": {},
   "outputs": [
    {
     "name": "stdout",
     "output_type": "stream",
     "text": [
      "İsim: Ömer Faruk Sağlam\n",
      "Yaş: 20\n",
      "Boy: 1.66\n",
      "Öğrenci mi? True\n",
      "Şu anda bulunduğunuz mevcut yılı giriniz:2025\n",
      "Doğum yılınızı girin: 2004\n",
      "Hesaplanan yaşınız: 21\n"
     ]
    }
   ],
   "source": [
    "# Görev 1\n",
    "isim = \"Ömer Faruk Sağlam\"  # String(Metin)\n",
    "yas = 20  # Integer(Tam Sayı)\n",
    "boy = 1.66  # Float(Ondalıklı değerler)\n",
    "ogrenci_mi = True  # Boolean(True,False)\n",
    "\n",
    "# Değerleri ekrana yazdırmak için:\n",
    "print(\"İsim:\", isim)\n",
    "print(\"Yaş:\", yas)\n",
    "print(\"Boy:\", boy)\n",
    "print(\"Öğrenci mi?\", ogrenci_mi)\n",
    "\n",
    "# Görev 2\n",
    "guncel_yil = int(input(\"Şu anda bulunduğunuz mevcut yılı giriniz:\")) #Kullanıcıdan mevcut içinde bulunduğu yılı alıyoruz.\n",
    "dogum_yili = int(input(\"Doğum yılınızı girin: \"))  # Kullanıcıdan doğum yılını alıyoruz.\n",
    "\n",
    "yas_hesap = guncel_yil - dogum_yili  # Hesaplamadan çıkan output bir alttaki print komutumuzla kullanıcının mevcut yaşını vericek.\n",
    "\n",
    "print(\"Hesaplanan yaşınız:\", yas_hesap)  # Sonuç ekrana yazdırılır."
   ]
  },
  {
   "cell_type": "code",
   "execution_count": null,
   "id": "917c4d7e",
   "metadata": {},
   "outputs": [],
   "source": []
  }
 ],
 "metadata": {
  "kernelspec": {
   "display_name": "Python 3 (ipykernel)",
   "language": "python",
   "name": "python3"
  },
  "language_info": {
   "codemirror_mode": {
    "name": "ipython",
    "version": 3
   },
   "file_extension": ".py",
   "mimetype": "text/x-python",
   "name": "python",
   "nbconvert_exporter": "python",
   "pygments_lexer": "ipython3",
   "version": "3.11.4"
  }
 },
 "nbformat": 4,
 "nbformat_minor": 5
}
