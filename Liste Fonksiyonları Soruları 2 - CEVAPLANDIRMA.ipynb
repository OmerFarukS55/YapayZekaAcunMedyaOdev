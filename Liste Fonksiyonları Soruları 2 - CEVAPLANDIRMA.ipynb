{
 "cells": [
  {
   "cell_type": "code",
   "execution_count": null,
   "id": "335dcbfc",
   "metadata": {},
   "outputs": [],
   "source": [
    "#Soru 1: Listedeki Tekrarlanan Elemanları ve Kaç Kez Tekrar Ettiklerini Bulma\n",
    "\n",
    "liste = input(\"Listeyi girin (elemanlar arası boşlukla ayırın): \").split() # Kullanıcıdan listeyi alıyoruz ve split ile boşluk ile ayırıyoruz\n",
    "\n",
    "for eleman in set(liste):  # Set kullanarak tekrarlanan elemanlarımızı filtreliyoruz\n",
    "    count = liste.count(eleman)  # Elemanın listede kaç kez geçtiğini saymak için.\n",
    "    if count > 1:\n",
    "        print(f\"Eleman: {eleman}, Tekrar Sayısı: {count}\")\n"
   ]
  },
  {
   "cell_type": "code",
   "execution_count": null,
   "id": "8efc66b0",
   "metadata": {},
   "outputs": [],
   "source": [
    "#Soru 2: Listedeki En Büyük İkinci Sayıyı Bulma\n",
    "    \n",
    "sayilar = input(\"Sayıları girin (boşlukla ayırın): \").split() # İlk olarak kullanıcıdan liste alıyoruz\n",
    "\n",
    "sayilar = [int(sayi) for sayi in sayilar] # Sonra sayıları tam sayıya çeviriyoruz.\n",
    "\n",
    "en_uzun = max(sayilar) # En büyük sayıyı buluyoruz\n",
    "\n",
    "sayilar.remove(en_uzun) # En büyük sayıyı listeden çıkarıyoruz\n",
    "\n",
    "ikinci_enBuyuk = max(sayilar) # En büyük ikinci sayıyı bulup çıktı veriyoruz\n",
    "\n",
    "print(f\"Listedeki en büyük ikinci sayı: {ikinci_enBuyuk}\")\n"
   ]
  },
  {
   "cell_type": "code",
   "execution_count": null,
   "id": "0adee93b",
   "metadata": {},
   "outputs": [],
   "source": [
    "#Soru 3: Listedeki Sayıları Küçükten Büyüğe ve Büyükten Küçüğe Sıralama\n",
    "    \n",
    "sayilar = input(\"Sayıları girin (boşlukla ayırın): \").split() # Kullanıcıdan liste alma işlemi\n",
    "\n",
    "sayilar = [int(sayi) for sayi in sayilar] # Tam sayıya çeviriyoruz\n",
    "\n",
    "# Küçükten büyüğe sıralamak için\n",
    "sayilar_asc = sorted(sayilar)\n",
    "print(f\"Küçükten büyüğe sıralama: {sayilar_asc}\")\n",
    "\n",
    "# Büyükten küçüğe sıralama için\n",
    "sayilar_desc = sorted(sayilar, reverse=True)\n",
    "print(f\"Büyükten küçüğe sıralama: {sayilar_desc}\")\n"
   ]
  },
  {
   "cell_type": "code",
   "execution_count": null,
   "id": "51c82ca6",
   "metadata": {},
   "outputs": [],
   "source": [
    "#Soru 4: Liste Elemanlarını 2 ile Çarpma ve Yeni Liste Oluşturma\n",
    "\n",
    "sayilar = input(\"Sayıları girin (boşlukla ayırın): \").split() # Kullanıcıdan liste alma işlemimiz\n",
    "\n",
    "sayilar = [int(sayi) for sayi in sayilar] # Tam sayıya çeviriyoruz\n",
    "\n",
    "# Liste elemanlarını 2 ile çarpma işlemi\n",
    "doubled_list = []\n",
    "for sayi in sayilar:\n",
    "    doubled_list.append(sayi * 2)\n",
    "\n",
    "print(f\"2 ile çarpılmış liste: {doubled_list}\")\n"
   ]
  },
  {
   "cell_type": "code",
   "execution_count": null,
   "id": "b0f1fa61",
   "metadata": {},
   "outputs": [],
   "source": [
    "#Soru 5: Listedeki Elemanları Rastgele Karıştırma\n",
    "\n",
    "import random #Random yani rastgele kütüphanemizi programımıza ekliyoruz\n",
    "\n",
    "liste = input(\"Listeyi girin (elemanlar arası boşlukla ayırın): \").split() # Kullanıcıdan liste alma işlemi\n",
    "\n",
    "# Listeyi rastgele karıştırmak için:\n",
    "random.shuffle(liste)\n",
    "print(f\"Rastgele karıştırılmış liste: {liste}\")\n"
   ]
  }
 ],
 "metadata": {
  "kernelspec": {
   "display_name": "Python 3 (ipykernel)",
   "language": "python",
   "name": "python3"
  },
  "language_info": {
   "codemirror_mode": {
    "name": "ipython",
    "version": 3
   },
   "file_extension": ".py",
   "mimetype": "text/x-python",
   "name": "python",
   "nbconvert_exporter": "python",
   "pygments_lexer": "ipython3",
   "version": "3.11.4"
  }
 },
 "nbformat": 4,
 "nbformat_minor": 5
}
