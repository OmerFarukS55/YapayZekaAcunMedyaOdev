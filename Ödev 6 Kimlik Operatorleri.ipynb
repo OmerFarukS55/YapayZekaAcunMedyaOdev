{
 "cells": [
  {
   "cell_type": "code",
   "execution_count": null,
   "id": "54fcaf98",
   "metadata": {},
   "outputs": [],
   "source": [
    "#Görev 1\n",
    "a = 256\n",
    "b = 256\n",
    "print(a is b)  # Sonuç ne olur? Neden?\n",
    "\n",
    "c = 257\n",
    "d = 257\n",
    "print(c is d)  # Sonuç ne olur? Neden?\n",
    "```\n",
    "\n",
    "1.a is b  \n",
    "Sonuç: True  \n",
    "Neden: Python, -5 ile 256 arasındaki sayıları aynı bellek adresinde saklar. Yani a ve b aynı değeri paylaşıyor.\n",
    "\n",
    "2.c is   \n",
    "Sonuç: `False`  \n",
    "Neden: 256 dan büyük sayılar için Python yeni bellek alanları ayırır. c ve d farklı bellek adreslerine işaret eder.\n",
    "\n",
    "Özet:  \n",
    "is, iki değişkenin aynı bellek adresine sahip olup olmadığını kontrol eder. Küçük sayılar aynı adreste, büyük sayılar farklı adreslerde saklanır.\n"
   ]
  }
 ],
 "metadata": {
  "kernelspec": {
   "display_name": "Python 3 (ipykernel)",
   "language": "python",
   "name": "python3"
  },
  "language_info": {
   "codemirror_mode": {
    "name": "ipython",
    "version": 3
   },
   "file_extension": ".py",
   "mimetype": "text/x-python",
   "name": "python",
   "nbconvert_exporter": "python",
   "pygments_lexer": "ipython3",
   "version": "3.11.4"
  }
 },
 "nbformat": 4,
 "nbformat_minor": 5
}
